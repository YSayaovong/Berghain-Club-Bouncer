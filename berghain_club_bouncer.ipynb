# Prompt the user for their age and the current number of guests in the club
age = int(input("Please enter your age: "))
current_guests = int(input("Please enter the current number of guests in the club: "))

# Check the conditions for entry
if age < 18 or age > 60:
    print("Sorry, you cannot enter the club due to age restrictions.")
elif current_guests >= 200:
    print("Sorry, the club is at maximum capacity. Please try again later.")
else:
    print("Welcome to Berghain!")